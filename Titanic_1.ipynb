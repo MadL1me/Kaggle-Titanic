{
  "nbformat": 4,
  "nbformat_minor": 0,
  "metadata": {
    "colab": {
      "name": "Titanic #1",
      "provenance": [],
      "collapsed_sections": [],
      "authorship_tag": "ABX9TyPCvDPBBpxa8VSQAZrxxobe",
      "include_colab_link": true
    },
    "kernelspec": {
      "name": "python3",
      "display_name": "Python 3"
    }
  },
  "cells": [
    {
      "cell_type": "markdown",
      "metadata": {
        "id": "view-in-github",
        "colab_type": "text"
      },
      "source": [
        "<a href=\"https://colab.research.google.com/github/Sn0wy-0wl/Kaggle_Titanic/blob/main/Titanic_1.ipynb\" target=\"_parent\"><img src=\"https://colab.research.google.com/assets/colab-badge.svg\" alt=\"Open In Colab\"/></a>"
      ]
    },
    {
      "cell_type": "markdown",
      "metadata": {
        "id": "FfC5KM4woKY2"
      },
      "source": [
        ""
      ]
    },
    {
      "cell_type": "code",
      "metadata": {
        "id": "hZxCze3gnUFY"
      },
      "source": [
        "import numpy as np\n",
        "import tensorflow as tf\n",
        "import pandas as pd\n",
        "import sklearn \n",
        "\n",
        "from sklearn.impute import SimpleImputer\n",
        "from sklearn.preprocessing import OneHotEncoder\n",
        "from sklearn.model_selection import train_test_split\\\n",
        "\n",
        "from tensorflow import keras \n",
        "from tensorflow.keras import initializers\n",
        "from tensorflow.keras import layers\n",
        "\n",
        "from keras import optimizers"
      ],
      "execution_count": null,
      "outputs": []
    },
    {
      "cell_type": "code",
      "metadata": {
        "colab": {
          "base_uri": "https://localhost:8080/"
        },
        "id": "3piaYFwIt6Yq",
        "outputId": "ba14d820-a02d-446d-8074-a245dd699856"
      },
      "source": [
        "train_file_path = \"input/train.csv\"\n",
        "\n",
        "X = pd.read_csv(train_file_path)\n",
        "\n",
        "features = [\"Pclass\", \"Sex\", \"Age\", \"Survived\"]\n",
        "\n",
        "X = pd.get_dummies(X[features])\n",
        "print(X.describe())\n",
        "\n",
        "X = pd.concat([X.drop('Pclass', axis=1), pd.get_dummies(X['Pclass'], prefix=\"Pclass\")], axis=1)\n",
        "\n",
        "imputer = SimpleImputer()\n",
        "imputed_X = pd.DataFrame(imputer.fit_transform(X))\n",
        "\n",
        "imputed_X.columns = X.columns\n",
        "X = imputed_X\n",
        "\n",
        "y = X.Survived\n",
        "X = X.drop(\"Survived\", axis=1)  "
      ],
      "execution_count": null,
      "outputs": [
        {
          "output_type": "stream",
          "text": [
            "           Pclass         Age    Survived  Sex_female    Sex_male\n",
            "count  891.000000  714.000000  891.000000  891.000000  891.000000\n",
            "mean     2.308642   29.699118    0.383838    0.352413    0.647587\n",
            "std      0.836071   14.526497    0.486592    0.477990    0.477990\n",
            "min      1.000000    0.420000    0.000000    0.000000    0.000000\n",
            "25%      2.000000   20.125000    0.000000    0.000000    0.000000\n",
            "50%      3.000000   28.000000    0.000000    0.000000    1.000000\n",
            "75%      3.000000   38.000000    1.000000    1.000000    1.000000\n",
            "max      3.000000   80.000000    1.000000    1.000000    1.000000\n"
          ],
          "name": "stdout"
        }
      ]
    },
    {
      "cell_type": "code",
      "metadata": {
        "colab": {
          "base_uri": "https://localhost:8080/",
          "height": 288
        },
        "id": "AKYIeS-rw3Ih",
        "outputId": "f3b6300f-daba-4f8d-e8c5-de534fd9e9a8"
      },
      "source": [
        "X_train, X_valid, y_train, y_valid = train_test_split(X, y, random_state=0)\n",
        "X_train.describe()"
      ],
      "execution_count": null,
      "outputs": [
        {
          "output_type": "execute_result",
          "data": {
            "text/html": [
              "<div>\n",
              "<style scoped>\n",
              "    .dataframe tbody tr th:only-of-type {\n",
              "        vertical-align: middle;\n",
              "    }\n",
              "\n",
              "    .dataframe tbody tr th {\n",
              "        vertical-align: top;\n",
              "    }\n",
              "\n",
              "    .dataframe thead th {\n",
              "        text-align: right;\n",
              "    }\n",
              "</style>\n",
              "<table border=\"1\" class=\"dataframe\">\n",
              "  <thead>\n",
              "    <tr style=\"text-align: right;\">\n",
              "      <th></th>\n",
              "      <th>Age</th>\n",
              "      <th>Sex_female</th>\n",
              "      <th>Sex_male</th>\n",
              "      <th>Pclass_1</th>\n",
              "      <th>Pclass_2</th>\n",
              "      <th>Pclass_3</th>\n",
              "    </tr>\n",
              "  </thead>\n",
              "  <tbody>\n",
              "    <tr>\n",
              "      <th>count</th>\n",
              "      <td>668.000000</td>\n",
              "      <td>668.000000</td>\n",
              "      <td>668.000000</td>\n",
              "      <td>668.000000</td>\n",
              "      <td>668.000000</td>\n",
              "      <td>668.000000</td>\n",
              "    </tr>\n",
              "    <tr>\n",
              "      <th>mean</th>\n",
              "      <td>29.860004</td>\n",
              "      <td>0.345808</td>\n",
              "      <td>0.654192</td>\n",
              "      <td>0.244012</td>\n",
              "      <td>0.206587</td>\n",
              "      <td>0.549401</td>\n",
              "    </tr>\n",
              "    <tr>\n",
              "      <th>std</th>\n",
              "      <td>12.963559</td>\n",
              "      <td>0.475988</td>\n",
              "      <td>0.475988</td>\n",
              "      <td>0.429822</td>\n",
              "      <td>0.405160</td>\n",
              "      <td>0.497926</td>\n",
              "    </tr>\n",
              "    <tr>\n",
              "      <th>min</th>\n",
              "      <td>0.670000</td>\n",
              "      <td>0.000000</td>\n",
              "      <td>0.000000</td>\n",
              "      <td>0.000000</td>\n",
              "      <td>0.000000</td>\n",
              "      <td>0.000000</td>\n",
              "    </tr>\n",
              "    <tr>\n",
              "      <th>25%</th>\n",
              "      <td>22.750000</td>\n",
              "      <td>0.000000</td>\n",
              "      <td>0.000000</td>\n",
              "      <td>0.000000</td>\n",
              "      <td>0.000000</td>\n",
              "      <td>0.000000</td>\n",
              "    </tr>\n",
              "    <tr>\n",
              "      <th>50%</th>\n",
              "      <td>29.699118</td>\n",
              "      <td>0.000000</td>\n",
              "      <td>1.000000</td>\n",
              "      <td>0.000000</td>\n",
              "      <td>0.000000</td>\n",
              "      <td>1.000000</td>\n",
              "    </tr>\n",
              "    <tr>\n",
              "      <th>75%</th>\n",
              "      <td>36.000000</td>\n",
              "      <td>1.000000</td>\n",
              "      <td>1.000000</td>\n",
              "      <td>0.000000</td>\n",
              "      <td>0.000000</td>\n",
              "      <td>1.000000</td>\n",
              "    </tr>\n",
              "    <tr>\n",
              "      <th>max</th>\n",
              "      <td>80.000000</td>\n",
              "      <td>1.000000</td>\n",
              "      <td>1.000000</td>\n",
              "      <td>1.000000</td>\n",
              "      <td>1.000000</td>\n",
              "      <td>1.000000</td>\n",
              "    </tr>\n",
              "  </tbody>\n",
              "</table>\n",
              "</div>"
            ],
            "text/plain": [
              "              Age  Sex_female    Sex_male    Pclass_1    Pclass_2    Pclass_3\n",
              "count  668.000000  668.000000  668.000000  668.000000  668.000000  668.000000\n",
              "mean    29.860004    0.345808    0.654192    0.244012    0.206587    0.549401\n",
              "std     12.963559    0.475988    0.475988    0.429822    0.405160    0.497926\n",
              "min      0.670000    0.000000    0.000000    0.000000    0.000000    0.000000\n",
              "25%     22.750000    0.000000    0.000000    0.000000    0.000000    0.000000\n",
              "50%     29.699118    0.000000    1.000000    0.000000    0.000000    1.000000\n",
              "75%     36.000000    1.000000    1.000000    0.000000    0.000000    1.000000\n",
              "max     80.000000    1.000000    1.000000    1.000000    1.000000    1.000000"
            ]
          },
          "metadata": {
            "tags": []
          },
          "execution_count": 71
        }
      ]
    },
    {
      "cell_type": "code",
      "metadata": {
        "id": "WqqFJXAuuW7b"
      },
      "source": [
        "\n",
        "def train_model():\n",
        "\n",
        "  #softmax\n",
        "  #relu\n",
        "\n",
        "  model = keras.Sequential([\n",
        "\n",
        "      layers.Dense(\n",
        "          units=128,\n",
        "          activation = \"tanh\",\n",
        "          input_shape = [6]\n",
        "      ),                        \n",
        "\n",
        "      layers.Dropout(0.2),\n",
        "\n",
        "      layers.Dense(\n",
        "          units = 256,\n",
        "          activation = \"tanh\",\n",
        "      ),\n",
        "      \n",
        "      layers.Dropout(0.2),\n",
        "\n",
        "      layers.Dense(\n",
        "          units = 512,\n",
        "          activation = \"tanh\",\n",
        "      ),\n",
        "\n",
        "      layers.Dropout(0.2),\n",
        "\n",
        "      layers.Dense(\n",
        "          units = 1024,\n",
        "          activation = \"tanh\",\n",
        "      ),\n",
        "\n",
        "      layers.Dropout(0.2),\n",
        "\n",
        "      layers.Dense(\n",
        "          units = 1,\n",
        "          activation = \"sigmoid\"\n",
        "      )\n",
        "  ])\n",
        "\n",
        "  model.compile(optimizer=\"adam\", loss=\"binary_crossentropy\", metrics=[\"accuracy\"])\n",
        "\n",
        "\n",
        "  history = model.fit(\n",
        "      X_train, y_train,\n",
        "      validation_data=(X_valid, y_valid),\n",
        "      epochs = 25\n",
        "  )\n",
        "\n",
        "  history_df = pd.DataFrame(history.history)\n",
        "  history_df.loc[:, ['loss', 'val_loss']].plot()\n",
        "\n",
        "  return model"
      ],
      "execution_count": null,
      "outputs": []
    },
    {
      "cell_type": "code",
      "metadata": {
        "colab": {
          "base_uri": "https://localhost:8080/",
          "height": 1000
        },
        "id": "t3TTIdtOWNmW",
        "outputId": "3e088ad9-6570-430d-9a2d-655eaf09d107"
      },
      "source": [
        "model = train_model()"
      ],
      "execution_count": null,
      "outputs": [
        {
          "output_type": "stream",
          "text": [
            "Epoch 1/25\n",
            "21/21 [==============================] - 1s 31ms/step - loss: 0.9646 - accuracy: 0.5548 - val_loss: 0.6030 - val_accuracy: 0.6413\n",
            "Epoch 2/25\n",
            "21/21 [==============================] - 0s 23ms/step - loss: 0.7452 - accuracy: 0.5446 - val_loss: 0.5648 - val_accuracy: 0.6547\n",
            "Epoch 3/25\n",
            "21/21 [==============================] - 0s 20ms/step - loss: 0.7261 - accuracy: 0.6118 - val_loss: 0.5975 - val_accuracy: 0.6816\n",
            "Epoch 4/25\n",
            "21/21 [==============================] - 0s 23ms/step - loss: 0.5761 - accuracy: 0.7201 - val_loss: 0.4510 - val_accuracy: 0.7892\n",
            "Epoch 5/25\n",
            "21/21 [==============================] - 0s 23ms/step - loss: 0.5632 - accuracy: 0.7354 - val_loss: 0.4356 - val_accuracy: 0.7848\n",
            "Epoch 6/25\n",
            "21/21 [==============================] - 1s 25ms/step - loss: 0.5432 - accuracy: 0.7514 - val_loss: 0.4347 - val_accuracy: 0.7982\n",
            "Epoch 7/25\n",
            "21/21 [==============================] - 1s 25ms/step - loss: 0.5074 - accuracy: 0.7439 - val_loss: 0.4635 - val_accuracy: 0.8027\n",
            "Epoch 8/25\n",
            "21/21 [==============================] - 1s 27ms/step - loss: 0.5446 - accuracy: 0.7613 - val_loss: 0.4336 - val_accuracy: 0.7982\n",
            "Epoch 9/25\n",
            "21/21 [==============================] - 0s 23ms/step - loss: 0.5897 - accuracy: 0.7456 - val_loss: 0.4448 - val_accuracy: 0.7937\n",
            "Epoch 10/25\n",
            "21/21 [==============================] - 1s 24ms/step - loss: 0.5433 - accuracy: 0.7664 - val_loss: 0.4352 - val_accuracy: 0.8072\n",
            "Epoch 11/25\n",
            "21/21 [==============================] - 1s 24ms/step - loss: 0.4677 - accuracy: 0.7992 - val_loss: 0.4438 - val_accuracy: 0.8072\n",
            "Epoch 12/25\n",
            "21/21 [==============================] - 1s 25ms/step - loss: 0.5197 - accuracy: 0.7723 - val_loss: 0.4700 - val_accuracy: 0.7982\n",
            "Epoch 13/25\n",
            "21/21 [==============================] - 1s 25ms/step - loss: 0.4828 - accuracy: 0.7948 - val_loss: 0.4397 - val_accuracy: 0.8027\n",
            "Epoch 14/25\n",
            "21/21 [==============================] - 1s 24ms/step - loss: 0.5291 - accuracy: 0.7632 - val_loss: 0.4412 - val_accuracy: 0.7937\n",
            "Epoch 15/25\n",
            "21/21 [==============================] - 0s 23ms/step - loss: 0.5108 - accuracy: 0.7812 - val_loss: 0.6252 - val_accuracy: 0.6816\n",
            "Epoch 16/25\n",
            "21/21 [==============================] - 0s 24ms/step - loss: 0.5591 - accuracy: 0.7383 - val_loss: 0.4225 - val_accuracy: 0.7937\n",
            "Epoch 17/25\n",
            "21/21 [==============================] - 0s 20ms/step - loss: 0.4968 - accuracy: 0.7747 - val_loss: 0.4391 - val_accuracy: 0.8072\n",
            "Epoch 18/25\n",
            "21/21 [==============================] - 0s 21ms/step - loss: 0.4895 - accuracy: 0.7823 - val_loss: 0.4294 - val_accuracy: 0.8117\n",
            "Epoch 19/25\n",
            "21/21 [==============================] - 0s 20ms/step - loss: 0.4992 - accuracy: 0.7852 - val_loss: 0.4277 - val_accuracy: 0.8027\n",
            "Epoch 20/25\n",
            "21/21 [==============================] - 0s 21ms/step - loss: 0.4888 - accuracy: 0.7849 - val_loss: 0.4206 - val_accuracy: 0.8027\n",
            "Epoch 21/25\n",
            "21/21 [==============================] - 0s 21ms/step - loss: 0.4575 - accuracy: 0.8209 - val_loss: 0.4828 - val_accuracy: 0.8117\n",
            "Epoch 22/25\n",
            "21/21 [==============================] - 0s 21ms/step - loss: 0.5101 - accuracy: 0.7818 - val_loss: 0.4402 - val_accuracy: 0.7713\n",
            "Epoch 23/25\n",
            "21/21 [==============================] - 0s 22ms/step - loss: 0.5049 - accuracy: 0.7622 - val_loss: 0.5693 - val_accuracy: 0.7982\n",
            "Epoch 24/25\n",
            "21/21 [==============================] - 0s 21ms/step - loss: 0.5153 - accuracy: 0.7763 - val_loss: 0.4230 - val_accuracy: 0.7982\n",
            "Epoch 25/25\n",
            "21/21 [==============================] - 0s 22ms/step - loss: 0.4307 - accuracy: 0.8235 - val_loss: 0.5378 - val_accuracy: 0.7803\n"
          ],
          "name": "stdout"
        },
        {
          "output_type": "display_data",
          "data": {
            "image/png": "[encoded data removed]",
            "text/plain": [
              "<Figure size 432x288 with 1 Axes>"
            ]
          },
          "metadata": {
            "tags": [],
            "needs_background": "light"
          }
        }
      ]
    },
    {
      "cell_type": "code",
      "metadata": {
        "colab": {
          "base_uri": "https://localhost:8080/"
        },
        "id": "zz1RUgs5v36V",
        "outputId": "eff1d3c1-1537-4640-95b5-9e260adcd69b"
      },
      "source": [
        "v = np.array([19,0,1,0,0,1])\n",
        "\n",
        "print(model.predict(v.reshape(1,6)))"
      ],
      "execution_count": null,
      "outputs": [
        {
          "output_type": "stream",
          "text": [
            "[[0.28189033]]\n"
          ],
          "name": "stdout"
        }
      ]
    },
    {
      "cell_type": "code",
      "metadata": {
        "colab": {
          "base_uri": "https://localhost:8080/"
        },
        "id": "N8fzfoVMMHLi",
        "outputId": "de7171f6-e90c-4332-993b-1b851cba9183"
      },
      "source": [
        "train_acc = model.evaluate(X_train, y_train, verbose=0)\n",
        "print(f\"Train acc {train_acc*100}%\")"
      ],
      "execution_count": null,
      "outputs": [
        {
          "output_type": "stream",
          "text": [
            "Train acc [0.4823512136936188, 0.803892195224762, 0.4823512136936188, 0.803892195224762, 0.4823512136936188, 0.803892195224762, 0.4823512136936188, 0.803892195224762, 0.4823512136936188, 0.803892195224762, 0.4823512136936188, 0.803892195224762, 0.4823512136936188, 0.803892195224762, 0.4823512136936188, 0.803892195224762, 0.4823512136936188, 0.803892195224762, 0.4823512136936188, 0.803892195224762, 0.4823512136936188, 0.803892195224762, 0.4823512136936188, 0.803892195224762, 0.4823512136936188, 0.803892195224762, 0.4823512136936188, 0.803892195224762, 0.4823512136936188, 0.803892195224762, 0.4823512136936188, 0.803892195224762, 0.4823512136936188, 0.803892195224762, 0.4823512136936188, 0.803892195224762, 0.4823512136936188, 0.803892195224762, 0.4823512136936188, 0.803892195224762, 0.4823512136936188, 0.803892195224762, 0.4823512136936188, 0.803892195224762, 0.4823512136936188, 0.803892195224762, 0.4823512136936188, 0.803892195224762, 0.4823512136936188, 0.803892195224762, 0.4823512136936188, 0.803892195224762, 0.4823512136936188, 0.803892195224762, 0.4823512136936188, 0.803892195224762, 0.4823512136936188, 0.803892195224762, 0.4823512136936188, 0.803892195224762, 0.4823512136936188, 0.803892195224762, 0.4823512136936188, 0.803892195224762, 0.4823512136936188, 0.803892195224762, 0.4823512136936188, 0.803892195224762, 0.4823512136936188, 0.803892195224762, 0.4823512136936188, 0.803892195224762, 0.4823512136936188, 0.803892195224762, 0.4823512136936188, 0.803892195224762, 0.4823512136936188, 0.803892195224762, 0.4823512136936188, 0.803892195224762, 0.4823512136936188, 0.803892195224762, 0.4823512136936188, 0.803892195224762, 0.4823512136936188, 0.803892195224762, 0.4823512136936188, 0.803892195224762, 0.4823512136936188, 0.803892195224762, 0.4823512136936188, 0.803892195224762, 0.4823512136936188, 0.803892195224762, 0.4823512136936188, 0.803892195224762, 0.4823512136936188, 0.803892195224762, 0.4823512136936188, 0.803892195224762, 0.4823512136936188, 0.803892195224762, 0.4823512136936188, 0.803892195224762, 0.4823512136936188, 0.803892195224762, 0.4823512136936188, 0.803892195224762, 0.4823512136936188, 0.803892195224762, 0.4823512136936188, 0.803892195224762, 0.4823512136936188, 0.803892195224762, 0.4823512136936188, 0.803892195224762, 0.4823512136936188, 0.803892195224762, 0.4823512136936188, 0.803892195224762, 0.4823512136936188, 0.803892195224762, 0.4823512136936188, 0.803892195224762, 0.4823512136936188, 0.803892195224762, 0.4823512136936188, 0.803892195224762, 0.4823512136936188, 0.803892195224762, 0.4823512136936188, 0.803892195224762, 0.4823512136936188, 0.803892195224762, 0.4823512136936188, 0.803892195224762, 0.4823512136936188, 0.803892195224762, 0.4823512136936188, 0.803892195224762, 0.4823512136936188, 0.803892195224762, 0.4823512136936188, 0.803892195224762, 0.4823512136936188, 0.803892195224762, 0.4823512136936188, 0.803892195224762, 0.4823512136936188, 0.803892195224762, 0.4823512136936188, 0.803892195224762, 0.4823512136936188, 0.803892195224762, 0.4823512136936188, 0.803892195224762, 0.4823512136936188, 0.803892195224762, 0.4823512136936188, 0.803892195224762, 0.4823512136936188, 0.803892195224762, 0.4823512136936188, 0.803892195224762, 0.4823512136936188, 0.803892195224762, 0.4823512136936188, 0.803892195224762, 0.4823512136936188, 0.803892195224762, 0.4823512136936188, 0.803892195224762, 0.4823512136936188, 0.803892195224762, 0.4823512136936188, 0.803892195224762, 0.4823512136936188, 0.803892195224762, 0.4823512136936188, 0.803892195224762, 0.4823512136936188, 0.803892195224762, 0.4823512136936188, 0.803892195224762, 0.4823512136936188, 0.803892195224762, 0.4823512136936188, 0.803892195224762, 0.4823512136936188, 0.803892195224762, 0.4823512136936188, 0.803892195224762, 0.4823512136936188, 0.803892195224762, 0.4823512136936188, 0.803892195224762, 0.4823512136936188, 0.803892195224762, 0.4823512136936188, 0.803892195224762]%\n"
          ],
          "name": "stdout"
        }
      ]
    },
    {
      "cell_type": "code",
      "metadata": {
        "colab": {
          "base_uri": "https://localhost:8080/"
        },
        "id": "9XO1P3A6l4p1",
        "outputId": "347d2210-3ad3-4bc1-ed1d-682c167b658c"
      },
      "source": [
        "test_file_path = \"input/test.csv\"\n",
        "\n",
        "test_data = pd.read_csv(test_file_path)\n",
        "\n",
        "features = [\"Pclass\", \"Sex\", \"Age\"]\n",
        "\n",
        "test = pd.get_dummies(test_data[features])\n",
        "test = pd.concat([test.drop('Pclass', axis=1), pd.get_dummies(test['Pclass'], prefix=\"Pclass\")], axis=1)\n",
        "\n",
        "predictions = model.predict(test) \n",
        "predictions = predictions.ravel()\n",
        "predictions = predictions.round()\n",
        "predictions = np.nan_to_num(predictions)\n",
        "predictions = predictions.astype(int)\n",
        "\n",
        "output = pd.DataFrame({'PassengerId': test_data.PassengerId, \"Survived\": predictions})\n",
        "output.to_csv(\"my_submission.csv\", index=False)\n",
        "print(\"Yeah\")"
      ],
      "execution_count": null,
      "outputs": [
        {
          "output_type": "stream",
          "text": [
            "Yeah\n"
          ],
          "name": "stdout"
        }
      ]
    }
  ]
}